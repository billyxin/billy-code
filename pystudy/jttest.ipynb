{
 "cells": [
  {
   "cell_type": "code",
   "execution_count": 1,
   "metadata": {},
   "outputs": [
    {
     "name": "stdout",
     "output_type": "stream",
     "text": [
      "这里是一个exe文件，哈哈\n"
     ]
    }
   ],
   "source": [
    "print('这里是一个exe文件，哈哈')"
   ]
  },
  {
   "cell_type": "code",
   "execution_count": 3,
   "metadata": {
    "scrolled": true
   },
   "outputs": [
    {
     "name": "stdout",
     "output_type": "stream",
     "text": [
      "--------nice--------\n"
     ]
    }
   ],
   "source": [
    "print('nice'.center(20, '-'))"
   ]
  },
  {
   "cell_type": "code",
   "execution_count": 77,
   "metadata": {},
   "outputs": [
    {
     "name": "stdout",
     "output_type": "stream",
     "text": [
      "the name is: wangwang\n",
      "gogogo\n",
      "start go log.\n",
      "print name is: wangwang\n",
      "wangwang\n",
      "<class 'type'>\n"
     ]
    }
   ],
   "source": [
    "class animal(object):\n",
    "    def __init__(self, name):\n",
    "        self.name = name\n",
    "\n",
    "    def log(fn):\n",
    "        def wrapper(*argv, **kws):\n",
    "            print('start go log.')\n",
    "            return fn(*argv, **kws)\n",
    "            print('log end.')\n",
    "        return wrapper\n",
    "\n",
    "    @log\n",
    "    def aname(self):\n",
    "        print('print name is:', self.name)\n",
    "        return self.name\n",
    "\n",
    "    def bite(self, words):\n",
    "        print(words)\n",
    "\n",
    "    def __str__(self):\n",
    "        return 'the name is: '+self.name\n",
    "\n",
    "\n",
    "dog = animal('wangwang')\n",
    "print(dog)\n",
    "dog.bite('gogogo')\n",
    "n = dog.aname()\n",
    "print(n)\n",
    "dir(animal)\n",
    "print(animal.__class__)"
   ]
  }
 ],
 "metadata": {
  "_draft": {
   "nbviewer_url": "https://gist.github.com/14562a835d54e59f72a49ff74a48de0b"
  },
  "gist": {
   "data": {
    "description": "py yield ",
    "public": false
   },
   "id": "14562a835d54e59f72a49ff74a48de0b"
  },
  "kernelspec": {
   "display_name": "Python 3",
   "language": "python",
   "name": "python3"
  },
  "language_info": {
   "codemirror_mode": {
    "name": "ipython",
    "version": 3
   },
   "file_extension": ".py",
   "mimetype": "text/x-python",
   "name": "python",
   "nbconvert_exporter": "python",
   "pygments_lexer": "ipython3",
   "version": "3.8.5"
  },
  "varInspector": {
   "cols": {
    "lenName": 16,
    "lenType": 16,
    "lenVar": 40
   },
   "kernels_config": {
    "python": {
     "delete_cmd_postfix": "",
     "delete_cmd_prefix": "del ",
     "library": "var_list.py",
     "varRefreshCmd": "print(var_dic_list())"
    },
    "r": {
     "delete_cmd_postfix": ") ",
     "delete_cmd_prefix": "rm(",
     "library": "var_list.r",
     "varRefreshCmd": "cat(var_dic_list()) "
    }
   },
   "types_to_exclude": [
    "module",
    "function",
    "builtin_function_or_method",
    "instance",
    "_Feature"
   ],
   "window_display": false
  }
 },
 "nbformat": 4,
 "nbformat_minor": 4
}
